{
 "cells": [
  {
   "cell_type": "markdown",
   "id": "8db64940",
   "metadata": {},
   "source": [
    "# 🐍 Fundamentos de Python - Módulo 1\n",
    "\n",
    "## Bienvenido al Curso Completo de Python\n",
    "\n",
    "### 📚 Contenido del Módulo 1:\n",
    "1. **Introducción a Python y configuración del entorno**\n",
    "2. **Variables y tipos de datos**\n",
    "3. **Operadores y expresiones**\n",
    "4. **Entrada y salida de datos**\n",
    "5. **Estructuras de control básicas**\n",
    "6. **Funciones básicas**\n",
    "7. **Proyecto práctico**\n",
    "\n",
    "### 🎯 Objetivos de Aprendizaje:\n",
    "- Entender qué es Python y por qué es importante\n",
    "- Configurar y usar un entorno de desarrollo\n",
    "- Dominar los tipos de datos básicos\n",
    "- Crear programas simples pero funcionales\n",
    "- Aplicar conceptos en proyectos prácticos"
   ]
  },
  {
   "cell_type": "markdown",
   "id": "ccc05252",
   "metadata": {},
   "source": [
    "---\n",
    "\n",
    "## 1. 🚀 ¿Qué es Python?\n",
    "\n",
    "Python es un lenguaje de programación de alto nivel, interpretado y de propósito general. Fue creado por Guido van Rossum y lanzado por primera vez en 1991.\n",
    "\n",
    "### ✨ Características principales:\n",
    "- **Sintaxis simple y legible**: Fácil de aprender y usar\n",
    "- **Multiplataforma**: Funciona en Windows, macOS, Linux\n",
    "- **Interpretado**: No necesita compilación\n",
    "- **Tipado dinámico**: No necesitas declarar tipos de variables\n",
    "- **Gran comunidad**: Muchas librerías y recursos disponibles\n",
    "\n",
    "### 🌟 Usos principales:\n",
    "- Desarrollo web (Django, Flask)\n",
    "- Ciencia de datos y análisis\n",
    "- Inteligencia artificial y machine learning\n",
    "- Automatización y scripting\n",
    "- Desarrollo de aplicaciones"
   ]
  },
  {
   "cell_type": "code",
   "execution_count": null,
   "id": "4257d0a8",
   "metadata": {},
   "outputs": [],
   "source": [
    "# ¡Tu primer programa en Python!\n",
    "print(\"¡Hola, mundo!\")\n",
    "print(\"Bienvenido al curso de Python 🐍\")"
   ]
  },
  {
   "cell_type": "code",
   "execution_count": null,
   "id": "f78391f9",
   "metadata": {},
   "outputs": [],
   "source": [
    "# Verificar la versión de Python\n",
    "import sys\n",
    "print(f\"Versión de Python: {sys.version}\")\n",
    "print(f\"Plataforma: {sys.platform}\")"
   ]
  },
  {
   "cell_type": "markdown",
   "id": "bbf91d75",
   "metadata": {},
   "source": [
    "---\n",
    "\n",
    "## 2. 📊 Variables y Tipos de Datos\n",
    "\n",
    "En Python, las variables son contenedores para almacenar datos. No necesitas declarar el tipo de variable explícitamente."
   ]
  },
  {
   "cell_type": "markdown",
   "id": "30d8306e",
   "metadata": {},
   "source": [
    "### 🔢 Tipos de Datos Básicos"
   ]
  },
  {
   "cell_type": "code",
   "execution_count": null,
   "id": "9c1362b9",
   "metadata": {},
   "outputs": [],
   "source": [
    "# NÚMEROS ENTEROS (int)\n",
    "edad = 25\n",
    "año_actual = 2025\n",
    "temperatura = -5\n",
    "\n",
    "print(f\"Edad: {edad}, tipo: {type(edad)}\")\n",
    "print(f\"Año: {año_actual}, tipo: {type(año_actual)}\")\n",
    "print(f\"Temperatura: {temperatura}, tipo: {type(temperatura)}\")"
   ]
  },
  {
   "cell_type": "code",
   "execution_count": null,
   "id": "6e6c945e",
   "metadata": {},
   "outputs": [],
   "source": [
    "# NÚMEROS DECIMALES (float)\n",
    "precio = 29.99\n",
    "pi = 3.14159\n",
    "descuento = 0.15\n",
    "\n",
    "print(f\"Precio: ${precio}, tipo: {type(precio)}\")\n",
    "print(f\"Pi: {pi}, tipo: {type(pi)}\")\n",
    "print(f\"Descuento: {descuento*100}%, tipo: {type(descuento)}\")"
   ]
  },
  {
   "cell_type": "code",
   "execution_count": null,
   "id": "5dcb4633",
   "metadata": {},
   "outputs": [],
   "source": [
    "# TEXTO (string)\n",
    "nombre = \"Alex\"\n",
    "apellido = 'Ballera'\n",
    "mensaje = \"\"\"Este es un texto\n",
    "que puede tener\n",
    "múltiples líneas\"\"\"\n",
    "\n",
    "print(f\"Nombre: {nombre}, tipo: {type(nombre)}\")\n",
    "print(f\"Apellido: {apellido}, tipo: {type(apellido)}\")\n",
    "print(f\"Mensaje: {mensaje}, tipo: {type(mensaje)}\")"
   ]
  },
  {
   "cell_type": "code",
   "execution_count": null,
   "id": "b9d1debd",
   "metadata": {},
   "outputs": [],
   "source": [
    "# BOOLEANOS (bool)\n",
    "es_estudiante = True\n",
    "tiene_trabajo = False\n",
    "esta_conectado = True\n",
    "\n",
    "print(f\"¿Es estudiante? {es_estudiante}, tipo: {type(es_estudiante)}\")\n",
    "print(f\"¿Tiene trabajo? {tiene_trabajo}, tipo: {type(tiene_trabajo)}\")\n",
    "print(f\"¿Está conectado? {esta_conectado}, tipo: {type(esta_conectado)}\")"
   ]
  },
  {
   "cell_type": "markdown",
   "id": "c1ebc6ee",
   "metadata": {},
   "source": [
    "### 🎯 Ejercicio Práctico 1: Variables\n",
    "\n",
    "Crea variables para representar la información de una persona y muéstrala en pantalla."
   ]
  },
  {
   "cell_type": "code",
   "execution_count": null,
   "id": "ff4f2af8",
   "metadata": {},
   "outputs": [],
   "source": [
    "# TODO: Completa este ejercicio\n",
    "# Crea variables para:\n",
    "mi_nombre = \"\"  # Tu nombre\n",
    "mi_edad = 0     # Tu edad\n",
    "mi_altura = 0.0 # Tu altura en metros\n",
    "soy_programador = False  # ¿Eres programador?\n",
    "\n",
    "# Muestra la información\n",
    "print(f\"Nombre: {mi_nombre}\")\n",
    "print(f\"Edad: {mi_edad} años\")\n",
    "print(f\"Altura: {mi_altura} metros\")\n",
    "print(f\"¿Soy programador? {soy_programador}\")"
   ]
  },
  {
   "cell_type": "markdown",
   "id": "59d70e42",
   "metadata": {},
   "source": [
    "---\n",
    "\n",
    "## 3. ➕ Operadores y Expresiones\n",
    "\n",
    "Los operadores nos permiten realizar operaciones con nuestros datos."
   ]
  },
  {
   "cell_type": "markdown",
   "id": "4e70e31e",
   "metadata": {},
   "source": [
    "### 🧮 Operadores Aritméticos"
   ]
  },
  {
   "cell_type": "code",
   "execution_count": null,
   "id": "4718aab0",
   "metadata": {},
   "outputs": [],
   "source": [
    "# Operadores aritméticos básicos\n",
    "a = 10\n",
    "b = 3\n",
    "\n",
    "print(f\"a = {a}, b = {b}\")\n",
    "print(f\"Suma: {a} + {b} = {a + b}\")\n",
    "print(f\"Resta: {a} - {b} = {a - b}\")\n",
    "print(f\"Multiplicación: {a} * {b} = {a * b}\")\n",
    "print(f\"División: {a} / {b} = {a / b}\")\n",
    "print(f\"División entera: {a} // {b} = {a // b}\")\n",
    "print(f\"Módulo (resto): {a} % {b} = {a % b}\")\n",
    "print(f\"Potencia: {a} ** {b} = {a ** b}\")"
   ]
  },
  {
   "cell_type": "markdown",
   "id": "f32a3de4",
   "metadata": {},
   "source": [
    "### 🔍 Operadores de Comparación"
   ]
  },
  {
   "cell_type": "code",
   "execution_count": null,
   "id": "414e2540",
   "metadata": {},
   "outputs": [],
   "source": [
    "# Operadores de comparación\n",
    "x = 5\n",
    "y = 8\n",
    "\n",
    "print(f\"x = {x}, y = {y}\")\n",
    "print(f\"x == y: {x == y}\")\n",
    "print(f\"x != y: {x != y}\")\n",
    "print(f\"x < y: {x < y}\")\n",
    "print(f\"x > y: {x > y}\")\n",
    "print(f\"x <= y: {x <= y}\")\n",
    "print(f\"x >= y: {x >= y}\")"
   ]
  },
  {
   "cell_type": "markdown",
   "id": "93329bc0",
   "metadata": {},
   "source": [
    "### 🔗 Operadores Lógicos"
   ]
  },
  {
   "cell_type": "code",
   "execution_count": null,
   "id": "83d6a611",
   "metadata": {},
   "outputs": [],
   "source": [
    "# Operadores lógicos\n",
    "p = True\n",
    "q = False\n",
    "\n",
    "print(f\"p = {p}, q = {q}\")\n",
    "print(f\"p and q: {p and q}\")\n",
    "print(f\"p or q: {p or q}\")\n",
    "print(f\"not p: {not p}\")\n",
    "print(f\"not q: {not q}\")"
   ]
  },
  {
   "cell_type": "markdown",
   "id": "2e83e12c",
   "metadata": {},
   "source": [
    "### 🎯 Ejercicio Práctico 2: Calculadora Básica"
   ]
  },
  {
   "cell_type": "code",
   "execution_count": null,
   "id": "634c54e5",
   "metadata": {},
   "outputs": [],
   "source": [
    "# Ejercicio: Calculadora de propinas\n",
    "cuenta_total = 150.75\n",
    "porcentaje_propina = 15\n",
    "numero_personas = 4\n",
    "\n",
    "# TODO: Calcula la propina\n",
    "propina = (cuenta_total * porcentaje_propina) / 100\n",
    "total_con_propina = cuenta_total + propina\n",
    "por_persona = total_con_propina / numero_personas\n",
    "\n",
    "print(f\"💰 Calculadora de Propinas\")\n",
    "print(f\"Cuenta total: ${cuenta_total}\")\n",
    "print(f\"Propina ({porcentaje_propina}%): ${propina:.2f}\")\n",
    "print(f\"Total con propina: ${total_con_propina:.2f}\")\n",
    "print(f\"Por persona: ${por_persona:.2f}\")"
   ]
  },
  {
   "cell_type": "markdown",
   "id": "8552c6bb",
   "metadata": {},
   "source": [
    "---\n",
    "\n",
    "## 4. 📥📤 Entrada y Salida de Datos\n",
    "\n",
    "Aprender a interactuar con el usuario es fundamental."
   ]
  },
  {
   "cell_type": "markdown",
   "id": "572844ff",
   "metadata": {},
   "source": [
    "### 📤 Función print() - Salida de datos"
   ]
  },
  {
   "cell_type": "code",
   "execution_count": null,
   "id": "54dd79ab",
   "metadata": {},
   "outputs": [],
   "source": [
    "# Diferentes formas de usar print()\n",
    "nombre = \"Alex\"\n",
    "edad = 25\n",
    "altura = 1.75\n",
    "\n",
    "# Método básico\n",
    "print(\"Hola, mi nombre es\", nombre)\n",
    "\n",
    "# f-strings (recomendado)\n",
    "print(f\"Hola, mi nombre es {nombre} y tengo {edad} años\")\n",
    "\n",
    "# Formato con .format()\n",
    "print(\"Mi altura es {:.2f} metros\".format(altura))\n",
    "\n",
    "# Con separadores personalizados\n",
    "print(nombre, edad, altura, sep=\" | \")\n",
    "\n",
    "# Sin salto de línea\n",
    "print(\"Contando: \", end=\"\")\n",
    "for i in range(1, 6):\n",
    "    print(i, end=\" \")\n",
    "print()  # Salto de línea final"
   ]
  },
  {
   "cell_type": "markdown",
   "id": "cea23194",
   "metadata": {},
   "source": [
    "### 📥 Función input() - Entrada de datos"
   ]
  },
  {
   "cell_type": "code",
   "execution_count": null,
   "id": "53c057c6",
   "metadata": {},
   "outputs": [],
   "source": [
    "# Nota: En Jupyter, input() puede no funcionar como esperamos\n",
    "# Simularemos la entrada de datos\n",
    "\n",
    "# Simulación de entrada de datos\n",
    "print(\"🎮 Simulación de entrada de datos\")\n",
    "\n",
    "# En un programa real, usarías:\n",
    "# nombre_usuario = input(\"¿Cómo te llamas? \")\n",
    "# edad_usuario = int(input(\"¿Cuántos años tienes? \"))\n",
    "\n",
    "# Para este ejemplo:\n",
    "nombre_usuario = \"María\"\n",
    "edad_usuario = 28\n",
    "print(f\"Entrada simulada: nombre='{nombre_usuario}', edad={edad_usuario}\")\n",
    "\n",
    "# Conversión de tipos\n",
    "edad_str = \"30\"\n",
    "edad_int = int(edad_str)\n",
    "precio_str = \"19.99\"\n",
    "precio_float = float(precio_str)\n",
    "\n",
    "print(f\"Conversión: '{edad_str}' -> {edad_int} (tipo: {type(edad_int)})\")\n",
    "print(f\"Conversión: '{precio_str}' -> {precio_float} (tipo: {type(precio_float)})\")"
   ]
  },
  {
   "cell_type": "markdown",
   "id": "91e03a7a",
   "metadata": {},
   "source": [
    "### 🎯 Ejercicio Práctico 3: Conversor de Unidades"
   ]
  },
  {
   "cell_type": "code",
   "execution_count": null,
   "id": "4ec5bb14",
   "metadata": {},
   "outputs": [],
   "source": [
    "# Ejercicio: Conversor de temperatura\n",
    "print(\"🌡️ Conversor de Temperatura\")\n",
    "print(\"Celsius a Fahrenheit\")\n",
    "\n",
    "# Simulamos entrada de usuario\n",
    "celsius = 25  # En un programa real: float(input(\"Temperatura en Celsius: \"))\n",
    "print(f\"Temperatura ingresada: {celsius}°C\")\n",
    "\n",
    "# Conversión\n",
    "fahrenheit = (celsius * 9/5) + 32\n",
    "\n",
    "print(f\"Resultado: {celsius}°C = {fahrenheit}°F\")\n",
    "\n",
    "# Bonus: Conversión a Kelvin\n",
    "kelvin = celsius + 273.15\n",
    "print(f\"Bonus: {celsius}°C = {kelvin}K\")"
   ]
  },
  {
   "cell_type": "markdown",
   "id": "0ecc63fe",
   "metadata": {},
   "source": [
    "---\n",
    "\n",
    "## 5. 🔀 Estructuras de Control Básicas\n",
    "\n",
    "Las estructuras de control nos permiten tomar decisiones y repetir acciones."
   ]
  },
  {
   "cell_type": "markdown",
   "id": "4ea4e1e4",
   "metadata": {},
   "source": [
    "### 🤔 Condicionales (if, elif, else)"
   ]
  },
  {
   "cell_type": "code",
   "execution_count": null,
   "id": "d131fae0",
   "metadata": {},
   "outputs": [],
   "source": [
    "# Estructura if básica\n",
    "edad = 18\n",
    "\n",
    "if edad >= 18:\n",
    "    print(\"Eres mayor de edad\")\n",
    "    print(\"Puedes votar\")\n",
    "else:\n",
    "    print(\"Eres menor de edad\")\n",
    "    print(\"No puedes votar aún\")\n",
    "\n",
    "print(\"Este mensaje siempre se muestra\")"
   ]
  },
  {
   "cell_type": "code",
   "execution_count": null,
   "id": "9c0dcd8d",
   "metadata": {},
   "outputs": [],
   "source": [
    "# Estructura if-elif-else\n",
    "calificacion = 85\n",
    "\n",
    "if calificacion >= 90:\n",
    "    letra = \"A\"\n",
    "    comentario = \"Excelente\"\n",
    "elif calificacion >= 80:\n",
    "    letra = \"B\"\n",
    "    comentario = \"Muy bien\"\n",
    "elif calificacion >= 70:\n",
    "    letra = \"C\"\n",
    "    comentario = \"Bien\"\n",
    "elif calificacion >= 60:\n",
    "    letra = \"D\"\n",
    "    comentario = \"Necesita mejorar\"\n",
    "else:\n",
    "    letra = \"F\"\n",
    "    comentario = \"Reprobado\"\n",
    "\n",
    "print(f\"Calificación: {calificacion}\")\n",
    "print(f\"Letra: {letra}\")\n",
    "print(f\"Comentario: {comentario}\")"
   ]
  },
  {
   "cell_type": "markdown",
   "id": "16ee158d",
   "metadata": {},
   "source": [
    "### 🔁 Bucle while"
   ]
  },
  {
   "cell_type": "code",
   "execution_count": null,
   "id": "c79b9243",
   "metadata": {},
   "outputs": [],
   "source": [
    "# Bucle while básico\n",
    "print(\"Contando del 1 al 5:\")\n",
    "contador = 1\n",
    "\n",
    "while contador <= 5:\n",
    "    print(f\"Número: {contador}\")\n",
    "    contador += 1  # contador = contador + 1\n",
    "\n",
    "print(\"¡Terminé de contar!\")"
   ]
  },
  {
   "cell_type": "code",
   "execution_count": null,
   "id": "7aec6139",
   "metadata": {},
   "outputs": [],
   "source": [
    "# Ejemplo: Adivinanza de números\n",
    "numero_secreto = 7\n",
    "intentos = 0\n",
    "max_intentos = 3\n",
    "\n",
    "print(\"🎯 Juego de adivinanza (simulado)\")\n",
    "print(f\"Tengo un número del 1 al 10. Tienes {max_intentos} intentos.\")\n",
    "\n",
    "# Simulamos intentos del usuario\n",
    "intentos_usuario = [5, 8, 7]  # En un programa real, usarías input()\n",
    "\n",
    "for intento in intentos_usuario:\n",
    "    intentos += 1\n",
    "    print(f\"\\nIntento {intentos}: {intento}\")\n",
    "    \n",
    "    if intento == numero_secreto:\n",
    "        print(f\"🎉 ¡Correcto! El número era {numero_secreto}\")\n",
    "        print(f\"Lo adivinaste en {intentos} intentos\")\n",
    "        break\n",
    "    elif intento < numero_secreto:\n",
    "        print(\"📈 Muy bajo\")\n",
    "    else:\n",
    "        print(\"📉 Muy alto\")\n",
    "    \n",
    "    if intentos >= max_intentos:\n",
    "        print(f\"\\n😞 Se acabaron los intentos. El número era {numero_secreto}\")\n",
    "        break"
   ]
  },
  {
   "cell_type": "markdown",
   "id": "edc6f9e3",
   "metadata": {},
   "source": [
    "### 🔄 Bucle for"
   ]
  },
  {
   "cell_type": "code",
   "execution_count": null,
   "id": "18816e5f",
   "metadata": {},
   "outputs": [],
   "source": [
    "# Bucle for con range()\n",
    "print(\"Números del 0 al 4:\")\n",
    "for i in range(5):\n",
    "    print(f\"i = {i}\")\n",
    "\n",
    "print(\"\\nNúmeros del 1 al 5:\")\n",
    "for i in range(1, 6):\n",
    "    print(f\"i = {i}\")\n",
    "\n",
    "print(\"\\nNúmeros pares del 2 al 10:\")\n",
    "for i in range(2, 11, 2):\n",
    "    print(f\"i = {i}\")"
   ]
  },
  {
   "cell_type": "code",
   "execution_count": null,
   "id": "60b98e28",
   "metadata": {},
   "outputs": [],
   "source": [
    "# Bucle for con strings\n",
    "palabra = \"Python\"\n",
    "\n",
    "print(f\"Letras en '{palabra}':\")\n",
    "for letra in palabra:\n",
    "    print(f\"Letra: {letra}\")\n",
    "\n",
    "# Con índices\n",
    "print(f\"\\nLetras con posición:\")\n",
    "for i, letra in enumerate(palabra):\n",
    "    print(f\"Posición {i}: {letra}\")"
   ]
  },
  {
   "cell_type": "markdown",
   "id": "46d46ab9",
   "metadata": {},
   "source": [
    "### 🎯 Ejercicio Práctico 4: Tabla de Multiplicar"
   ]
  },
  {
   "cell_type": "code",
   "execution_count": null,
   "id": "24d56bfc",
   "metadata": {},
   "outputs": [],
   "source": [
    "# Ejercicio: Crear tabla de multiplicar\n",
    "numero = 7\n",
    "\n",
    "print(f\"📊 Tabla de multiplicar del {numero}\")\n",
    "print(\"=\" * 30)\n",
    "\n",
    "for i in range(1, 11):\n",
    "    resultado = numero * i\n",
    "    print(f\"{numero} x {i:2d} = {resultado:2d}\")\n",
    "\n",
    "print(\"=\" * 30)"
   ]
  },
  {
   "cell_type": "markdown",
   "id": "58c5f602",
   "metadata": {},
   "source": [
    "---\n",
    "\n",
    "## 6. 🔧 Funciones Básicas\n",
    "\n",
    "Las funciones nos permiten organizar y reutilizar nuestro código."
   ]
  },
  {
   "cell_type": "markdown",
   "id": "a232aec1",
   "metadata": {},
   "source": [
    "### 📝 Definición y uso de funciones"
   ]
  },
  {
   "cell_type": "code",
   "execution_count": null,
   "id": "c0a0d8af",
   "metadata": {},
   "outputs": [],
   "source": [
    "# Función básica sin parámetros\n",
    "def saludar():\n",
    "    print(\"¡Hola desde la función!\")\n",
    "    print(\"Bienvenido al curso de Python\")\n",
    "\n",
    "# Llamar a la función\n",
    "saludar()\n",
    "print(\"\\nFunción ejecutada\")"
   ]
  },
  {
   "cell_type": "code",
   "execution_count": null,
   "id": "64410e63",
   "metadata": {},
   "outputs": [],
   "source": [
    "# Función con parámetros\n",
    "def saludar_persona(nombre, edad):\n",
    "    print(f\"¡Hola {nombre}!\")\n",
    "    print(f\"Veo que tienes {edad} años\")\n",
    "    if edad >= 18:\n",
    "        print(\"Eres mayor de edad\")\n",
    "    else:\n",
    "        print(\"Eres menor de edad\")\n",
    "\n",
    "# Llamar con diferentes argumentos\n",
    "saludar_persona(\"Ana\", 25)\n",
    "print()\n",
    "saludar_persona(\"Carlos\", 16)"
   ]
  },
  {
   "cell_type": "code",
   "execution_count": null,
   "id": "9a204dd9",
   "metadata": {},
   "outputs": [],
   "source": [
    "# Función que retorna valores\n",
    "def calcular_area_rectangulo(largo, ancho):\n",
    "    \"\"\"Calcula el área de un rectángulo\"\"\"\n",
    "    area = largo * ancho\n",
    "    return area\n",
    "\n",
    "def calcular_perimetro_rectangulo(largo, ancho):\n",
    "    \"\"\"Calcula el perímetro de un rectángulo\"\"\"\n",
    "    perimetro = 2 * (largo + ancho)\n",
    "    return perimetro\n",
    "\n",
    "# Usar las funciones\n",
    "mi_largo = 10\n",
    "mi_ancho = 5\n",
    "\n",
    "area = calcular_area_rectangulo(mi_largo, mi_ancho)\n",
    "perimetro = calcular_perimetro_rectangulo(mi_largo, mi_ancho)\n",
    "\n",
    "print(f\"Rectángulo de {mi_largo} x {mi_ancho}\")\n",
    "print(f\"Área: {area} unidades cuadradas\")\n",
    "print(f\"Perímetro: {perimetro} unidades\")"
   ]
  },
  {
   "cell_type": "code",
   "execution_count": null,
   "id": "47583a04",
   "metadata": {},
   "outputs": [],
   "source": [
    "# Función con parámetros por defecto\n",
    "def calcular_propina(cuenta, porcentaje=15):\n",
    "    \"\"\"Calcula la propina con un porcentaje por defecto del 15%\"\"\"\n",
    "    propina = (cuenta * porcentaje) / 100\n",
    "    total = cuenta + propina\n",
    "    return propina, total\n",
    "\n",
    "# Usar con porcentaje por defecto\n",
    "cuenta1 = 100\n",
    "propina1, total1 = calcular_propina(cuenta1)\n",
    "print(f\"Cuenta: ${cuenta1}, Propina: ${propina1:.2f}, Total: ${total1:.2f}\")\n",
    "\n",
    "# Usar con porcentaje personalizado\n",
    "cuenta2 = 100\n",
    "propina2, total2 = calcular_propina(cuenta2, 20)\n",
    "print(f\"Cuenta: ${cuenta2}, Propina: ${propina2:.2f}, Total: ${total2:.2f}\")"
   ]
  },
  {
   "cell_type": "markdown",
   "id": "38a5aa1d",
   "metadata": {},
   "source": [
    "### 🎯 Ejercicio Práctico 5: Calculadora con Funciones"
   ]
  },
  {
   "cell_type": "code",
   "execution_count": null,
   "id": "641da4ef",
   "metadata": {},
   "outputs": [],
   "source": [
    "# Ejercicio: Crear una calculadora con funciones\n",
    "\n",
    "def sumar(a, b):\n",
    "    \"\"\"Suma dos números\"\"\"\n",
    "    return a + b\n",
    "\n",
    "def restar(a, b):\n",
    "    \"\"\"Resta dos números\"\"\"\n",
    "    return a - b\n",
    "\n",
    "def multiplicar(a, b):\n",
    "    \"\"\"Multiplica dos números\"\"\"\n",
    "    return a * b\n",
    "\n",
    "def dividir(a, b):\n",
    "    \"\"\"Divide dos números\"\"\"\n",
    "    if b != 0:\n",
    "        return a / b\n",
    "    else:\n",
    "        return \"Error: No se puede dividir por cero\"\n",
    "\n",
    "def mostrar_resultado(operacion, a, b, resultado):\n",
    "    \"\"\"Muestra el resultado de una operación\"\"\"\n",
    "    print(f\"{a} {operacion} {b} = {resultado}\")\n",
    "\n",
    "# Probar la calculadora\n",
    "print(\"🧮 Calculadora con Funciones\")\n",
    "print(\"=\" * 30)\n",
    "\n",
    "num1 = 15\n",
    "num2 = 4\n",
    "\n",
    "# Realizar operaciones\n",
    "resultado_suma = sumar(num1, num2)\n",
    "resultado_resta = restar(num1, num2)\n",
    "resultado_mult = multiplicar(num1, num2)\n",
    "resultado_div = dividir(num1, num2)\n",
    "\n",
    "# Mostrar resultados\n",
    "mostrar_resultado(\"+\", num1, num2, resultado_suma)\n",
    "mostrar_resultado(\"-\", num1, num2, resultado_resta)\n",
    "mostrar_resultado(\"*\", num1, num2, resultado_mult)\n",
    "mostrar_resultado(\"/\", num1, num2, f\"{resultado_div:.2f}\")\n",
    "\n",
    "# Probar división por cero\n",
    "resultado_error = dividir(num1, 0)\n",
    "print(f\"\\nPrueba de error: {num1} / 0 = {resultado_error}\")"
   ]
  },
  {
   "cell_type": "markdown",
   "id": "7f8eacec",
   "metadata": {},
   "source": [
    "---\n",
    "\n",
    "## 7. 🚀 Proyecto Práctico Final: Sistema de Gestión de Estudiantes\n",
    "\n",
    "¡Vamos a crear un proyecto que combine todo lo que hemos aprendido!"
   ]
  },
  {
   "cell_type": "code",
   "execution_count": null,
   "id": "bba1c5f4",
   "metadata": {},
   "outputs": [],
   "source": [
    "# Proyecto Final: Sistema de Gestión de Estudiantes\n",
    "\n",
    "def agregar_estudiante(nombre, edad, calificaciones):\n",
    "    \"\"\"Crea un diccionario con la información del estudiante\"\"\"\n",
    "    estudiante = {\n",
    "        'nombre': nombre,\n",
    "        'edad': edad,\n",
    "        'calificaciones': calificaciones\n",
    "    }\n",
    "    return estudiante\n",
    "\n",
    "def calcular_promedio(calificaciones):\n",
    "    \"\"\"Calcula el promedio de una lista de calificaciones\"\"\"\n",
    "    if len(calificaciones) == 0:\n",
    "        return 0\n",
    "    return sum(calificaciones) / len(calificaciones)\n",
    "\n",
    "def obtener_letra_calificacion(promedio):\n",
    "    \"\"\"Convierte un promedio numérico a letra\"\"\"\n",
    "    if promedio >= 90:\n",
    "        return 'A'\n",
    "    elif promedio >= 80:\n",
    "        return 'B'\n",
    "    elif promedio >= 70:\n",
    "        return 'C'\n",
    "    elif promedio >= 60:\n",
    "        return 'D'\n",
    "    else:\n",
    "        return 'F'\n",
    "\n",
    "def mostrar_reporte_estudiante(estudiante):\n",
    "    \"\"\"Muestra un reporte completo del estudiante\"\"\"\n",
    "    nombre = estudiante['nombre']\n",
    "    edad = estudiante['edad']\n",
    "    calificaciones = estudiante['calificaciones']\n",
    "    promedio = calcular_promedio(calificaciones)\n",
    "    letra = obtener_letra_calificacion(promedio)\n",
    "    \n",
    "    print(f\"\\n📊 Reporte de {nombre}\")\n",
    "    print(\"=\" * 40)\n",
    "    print(f\"Edad: {edad} años\")\n",
    "    print(f\"Calificaciones: {calificaciones}\")\n",
    "    print(f\"Promedio: {promedio:.2f}\")\n",
    "    print(f\"Letra: {letra}\")\n",
    "    \n",
    "    # Determinar estatus\n",
    "    if promedio >= 70:\n",
    "        estatus = \"APROBADO ✅\"\n",
    "    else:\n",
    "        estatus = \"REPROBADO ❌\"\n",
    "    \n",
    "    print(f\"Estatus: {estatus}\")\n",
    "    print(\"=\" * 40)\n",
    "\n",
    "# Crear base de datos de estudiantes\n",
    "print(\"🎓 Sistema de Gestión de Estudiantes\")\n",
    "print(\"=\" * 50)\n",
    "\n",
    "# Agregar estudiantes\n",
    "estudiantes = []\n",
    "\n",
    "# Estudiante 1\n",
    "est1 = agregar_estudiante(\"Ana García\", 20, [85, 92, 78, 88, 90])\n",
    "estudiantes.append(est1)\n",
    "\n",
    "# Estudiante 2\n",
    "est2 = agregar_estudiante(\"Carlos López\", 19, [76, 82, 79, 85, 80])\n",
    "estudiantes.append(est2)\n",
    "\n",
    "# Estudiante 3\n",
    "est3 = agregar_estudiante(\"María Rodríguez\", 21, [95, 98, 92, 96, 94])\n",
    "estudiantes.append(est3)\n",
    "\n",
    "# Estudiante 4\n",
    "est4 = agregar_estudiante(\"Juan Pérez\", 18, [65, 58, 72, 61, 69])\n",
    "estudiantes.append(est4)\n",
    "\n",
    "# Mostrar reportes individuales\n",
    "for estudiante in estudiantes:\n",
    "    mostrar_reporte_estudiante(estudiante)"
   ]
  },
  {
   "cell_type": "code",
   "execution_count": null,
   "id": "2504751f",
   "metadata": {},
   "outputs": [],
   "source": [
    "# Estadísticas generales de la clase\n",
    "def generar_estadisticas_clase(estudiantes):\n",
    "    \"\"\"Genera estadísticas generales de todos los estudiantes\"\"\"\n",
    "    if len(estudiantes) == 0:\n",
    "        print(\"No hay estudiantes registrados\")\n",
    "        return\n",
    "    \n",
    "    promedios = []\n",
    "    aprobados = 0\n",
    "    reprobados = 0\n",
    "    \n",
    "    for estudiante in estudiantes:\n",
    "        promedio = calcular_promedio(estudiante['calificaciones'])\n",
    "        promedios.append(promedio)\n",
    "        \n",
    "        if promedio >= 70:\n",
    "            aprobados += 1\n",
    "        else:\n",
    "            reprobados += 1\n",
    "    \n",
    "    promedio_clase = sum(promedios) / len(promedios)\n",
    "    promedio_mas_alto = max(promedios)\n",
    "    promedio_mas_bajo = min(promedios)\n",
    "    \n",
    "    print(\"\\n📈 Estadísticas de la Clase\")\n",
    "    print(\"=\" * 50)\n",
    "    print(f\"Total de estudiantes: {len(estudiantes)}\")\n",
    "    print(f\"Promedio de la clase: {promedio_clase:.2f}\")\n",
    "    print(f\"Promedio más alto: {promedio_mas_alto:.2f}\")\n",
    "    print(f\"Promedio más bajo: {promedio_mas_bajo:.2f}\")\n",
    "    print(f\"Estudiantes aprobados: {aprobados} ({aprobados/len(estudiantes)*100:.1f}%)\")\n",
    "    print(f\"Estudiantes reprobados: {reprobados} ({reprobados/len(estudiantes)*100:.1f}%)\")\n",
    "    print(\"=\" * 50)\n",
    "\n",
    "# Generar estadísticas\n",
    "generar_estadisticas_clase(estudiantes)"
   ]
  },
  {
   "cell_type": "markdown",
   "id": "2d338c11",
   "metadata": {},
   "source": [
    "---\n",
    "\n",
    "## 🎯 Ejercicios Adicionales para Practicar\n",
    "\n",
    "¡Intenta resolver estos ejercicios por tu cuenta!"
   ]
  },
  {
   "cell_type": "code",
   "execution_count": null,
   "id": "8dca8531",
   "metadata": {},
   "outputs": [],
   "source": [
    "# Ejercicio 1: Verificador de números primos\n",
    "def es_primo(numero):\n",
    "    \"\"\"TODO: Implementa una función que determine si un número es primo\"\"\"\n",
    "    # Un número primo solo es divisible por 1 y por sí mismo\n",
    "    if numero < 2:\n",
    "        return False\n",
    "    \n",
    "    for i in range(2, int(numero ** 0.5) + 1):\n",
    "        if numero % i == 0:\n",
    "            return False\n",
    "    \n",
    "    return True\n",
    "\n",
    "# Probar la función\n",
    "numeros_prueba = [2, 3, 4, 5, 6, 7, 8, 9, 10, 11, 17, 25]\n",
    "\n",
    "print(\"🔢 Verificador de Números Primos\")\n",
    "for num in numeros_prueba:\n",
    "    resultado = es_primo(num)\n",
    "    print(f\"{num} es primo: {resultado}\")"
   ]
  },
  {
   "cell_type": "code",
   "execution_count": null,
   "id": "87ef2f14",
   "metadata": {},
   "outputs": [],
   "source": [
    "# Ejercicio 2: Contador de palabras\n",
    "def contar_palabras(texto):\n",
    "    \"\"\"TODO: Cuenta las palabras en un texto\"\"\"\n",
    "    # Pista: usa split() para separar las palabras\n",
    "    palabras = texto.split()\n",
    "    return len(palabras)\n",
    "\n",
    "def contar_caracteres(texto, incluir_espacios=True):\n",
    "    \"\"\"TODO: Cuenta los caracteres en un texto\"\"\"\n",
    "    if incluir_espacios:\n",
    "        return len(texto)\n",
    "    else:\n",
    "        return len(texto.replace(\" \", \"\"))\n",
    "\n",
    "# Probar las funciones\n",
    "texto_prueba = \"Python es un lenguaje de programación fantástico\"\n",
    "\n",
    "print(\"📝 Análisis de Texto\")\n",
    "print(f\"Texto: '{texto_prueba}'\")\n",
    "print(f\"Palabras: {contar_palabras(texto_prueba)}\")\n",
    "print(f\"Caracteres (con espacios): {contar_caracteres(texto_prueba, True)}\")\n",
    "print(f\"Caracteres (sin espacios): {contar_caracteres(texto_prueba, False)}\")"
   ]
  },
  {
   "cell_type": "code",
   "execution_count": null,
   "id": "5aeb2ede",
   "metadata": {},
   "outputs": [],
   "source": [
    "# Ejercicio 3: Generador de secuencia Fibonacci\n",
    "def fibonacci(n):\n",
    "    \"\"\"TODO: Genera los primeros n números de la secuencia Fibonacci\"\"\"\n",
    "    # La secuencia Fibonacci: 0, 1, 1, 2, 3, 5, 8, 13, 21, ...\n",
    "    # Cada número es la suma de los dos anteriores\n",
    "    \n",
    "    if n <= 0:\n",
    "        return []\n",
    "    elif n == 1:\n",
    "        return [0]\n",
    "    elif n == 2:\n",
    "        return [0, 1]\n",
    "    \n",
    "    secuencia = [0, 1]\n",
    "    \n",
    "    for i in range(2, n):\n",
    "        siguiente = secuencia[i-1] + secuencia[i-2]\n",
    "        secuencia.append(siguiente)\n",
    "    \n",
    "    return secuencia\n",
    "\n",
    "# Probar la función\n",
    "print(\"🌀 Secuencia Fibonacci\")\n",
    "for i in range(1, 11):\n",
    "    fib = fibonacci(i)\n",
    "    print(f\"Fibonacci({i}): {fib}\")"
   ]
  },
  {
   "cell_type": "markdown",
   "id": "51f9cbfe",
   "metadata": {},
   "source": [
    "---\n",
    "\n",
    "## 🎉 ¡Felicitaciones!\n",
    "\n",
    "### ✅ Has completado el Módulo 1 - Fundamentos de Python\n",
    "\n",
    "### 📚 Lo que has aprendido:\n",
    "- ✅ Configuración del entorno de desarrollo\n",
    "- ✅ Variables y tipos de datos básicos\n",
    "- ✅ Operadores aritméticos, de comparación y lógicos\n",
    "- ✅ Entrada y salida de datos con `input()` y `print()`\n",
    "- ✅ Estructuras de control: `if`, `while`, `for`\n",
    "- ✅ Definición y uso de funciones\n",
    "- ✅ Proyecto práctico integrador\n",
    "\n",
    "### 🚀 Próximos pasos:\n",
    "1. **Práctica**: Resuelve los ejercicios adicionales\n",
    "2. **Experimenta**: Modifica el código y observa qué pasa\n",
    "3. **Crea**: Inventa tus propios pequeños programas\n",
    "4. **Continúa**: Prepárate para el Módulo 2 - Programación Orientada a Objetos\n",
    "\n",
    "### 💡 Consejos para seguir aprendiendo:\n",
    "- **Practica diariamente**: Aunque sea 15-30 minutos\n",
    "- **Resuelve problemas**: Busca ejercicios en línea\n",
    "- **Lee código**: Explora proyectos open source\n",
    "- **Construye proyectos**: Aplica lo aprendido en proyectos personales\n",
    "\n",
    "---\n",
    "\n",
    "### 📖 Recursos adicionales:\n",
    "- [Documentación oficial de Python](https://docs.python.org/3/)\n",
    "- [Python.org Tutorial](https://docs.python.org/3/tutorial/)\n",
    "- [Real Python](https://realpython.com/)\n",
    "- [Python Exercises](https://www.w3resource.com/python-exercises/)\n",
    "\n",
    "¡Nos vemos en el próximo módulo! 🐍✨"
   ]
  }
 ],
 "metadata": {
  "kernelspec": {
   "display_name": "Python 3 (ipykernel)",
   "language": "python",
   "name": "python3"
  },
  "language_info": {
   "codemirror_mode": {
    "name": "ipython",
    "version": 3
   },
   "file_extension": ".py",
   "mimetype": "text/x-python",
   "name": "python",
   "nbconvert_exporter": "python",
   "pygments_lexer": "ipython3",
   "version": "3.11.6"
  }
 },
 "nbformat": 4,
 "nbformat_minor": 5
}
